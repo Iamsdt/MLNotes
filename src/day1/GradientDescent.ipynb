{
 "cells": [
  {
   "cell_type": "code",
   "execution_count": 6,
   "metadata": {
    "collapsed": true
   },
   "outputs": [],
   "source": [
    "# dataset\n",
    "x_data = [1, 2, 3, 4, 5]\n",
    "y_data = [2, 4, 6, 8, 10]\n",
    "\n",
    "# random weight\n",
    "w = 1\n"
   ]
  },
  {
   "cell_type": "code",
   "execution_count": 2,
   "metadata": {},
   "outputs": [],
   "source": [
    "def forward(x):\n",
    "    return x * w\n"
   ]
  },
  {
   "cell_type": "code",
   "execution_count": 3,
   "metadata": {},
   "outputs": [],
   "source": [
    "def loss(x, y):\n",
    "    y_p = forward(x)\n",
    "    return (y_p - y) * (y_p - y)\n"
   ]
  },
  {
   "cell_type": "code",
   "execution_count": 4,
   "metadata": {},
   "outputs": [],
   "source": [
    "def gradient(x, y):\n",
    "    return 2 * x * (x * w - y)\n"
   ]
  },
  {
   "cell_type": "code",
   "execution_count": 8,
   "metadata": {},
   "outputs": [
    {
     "name": "stdout",
     "output_type": "stream",
     "text": [
      "Predict before training: 16.0\nGra 0.0 1 2\nGra 0.0 2 4\nGra 0.0 3 6\nGra 0.0 4 8\nGra 0.0 5 10\nEpoch 0 loss: 0.0 w:  2.0\nGra 0.0 1 2\nGra 0.0 2 4\nGra 0.0 3 6\nGra 0.0 4 8\nGra 0.0 5 10\nEpoch 1 loss: 0.0 w:  2.0\nGra 0.0 1 2\nGra 0.0 2 4\nGra 0.0 3 6\nGra 0.0 4 8\nGra 0.0 5 10\nEpoch 2 loss: 0.0 w:  2.0\nGra 0.0 1 2\nGra 0.0 2 4\nGra 0.0 3 6\nGra 0.0 4 8\nGra 0.0 5 10\nEpoch 3 loss: 0.0 w:  2.0\nGra 0.0 1 2\nGra 0.0 2 4\nGra 0.0 3 6\nGra 0.0 4 8\nGra 0.0 5 10\nEpoch 4 loss: 0.0 w:  2.0\nGra 0.0 1 2\nGra 0.0 2 4\nGra 0.0 3 6\nGra 0.0 4 8\nGra 0.0 5 10\nEpoch 5 loss: 0.0 w:  2.0\nGra 0.0 1 2\nGra 0.0 2 4\nGra 0.0 3 6\nGra 0.0 4 8\nGra 0.0 5 10\nEpoch 6 loss: 0.0 w:  2.0\nGra 0.0 1 2\nGra 0.0 2 4\nGra 0.0 3 6\nGra 0.0 4 8\nGra 0.0 5 10\nEpoch 7 loss: 0.0 w:  2.0\nGra 0.0 1 2\nGra 0.0 2 4\nGra 0.0 3 6\nGra 0.0 4 8\nGra 0.0 5 10\nEpoch 8 loss: 0.0 w:  2.0\nGra 0.0 1 2\nGra 0.0 2 4\nGra 0.0 3 6\nGra 0.0 4 8\nGra 0.0 5 10\nEpoch 9 loss: 0.0 w:  2.0\nPredict after training: 16.0\n"
     ]
    }
   ],
   "source": [
    "# before training\n",
    "print(\"Predict before training:\", forward(8))\n",
    "for epoch in range(10):\n",
    "    for x, y in zip(x_data, y_data):\n",
    "        gra = gradient(x, y)\n",
    "        w = w - 0.01 * gra\n",
    "        print(\"Gra\", gra, x, y)\n",
    "        l = loss(x, y)\n",
    "\n",
    "    print(\"Epoch\", epoch, \"loss:\", l, \"w: \", w)\n",
    "\n",
    "print(\"Predict after training:\", forward(8))\n"
   ]
  },
  {
   "cell_type": "code",
   "execution_count": null,
   "metadata": {},
   "outputs": [],
   "source": []
  }
 ],
 "metadata": {
  "kernelspec": {
   "display_name": "Python 2",
   "language": "python",
   "name": "python2"
  },
  "language_info": {
   "codemirror_mode": {
    "name": "ipython",
    "version": 2
   },
   "file_extension": ".py",
   "mimetype": "text/x-python",
   "name": "python",
   "nbconvert_exporter": "python",
   "pygments_lexer": "ipython2",
   "version": "2.7.6"
  }
 },
 "nbformat": 4,
 "nbformat_minor": 0
}
